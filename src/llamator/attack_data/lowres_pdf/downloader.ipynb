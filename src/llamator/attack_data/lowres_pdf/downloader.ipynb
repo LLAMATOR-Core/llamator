{
 "cells": [
  {
   "cell_type": "code",
   "execution_count": null,
   "id": "09602163",
   "metadata": {},
   "outputs": [],
   "source": [
    "from huggingface_hub import snapshot_download\n",
    "from pathlib import Path\n",
    "\n",
    "base_dir = Path().resolve().parent\n",
    "target_dir = Path().resolve().parent / \"lowres_pdf\"\n",
    "\n",
    "snapshot_download(\n",
    "    repo_id=\"Svyatoslav12345/lowres_docs\",\n",
    "    repo_type=\"dataset\",\n",
    "    local_dir=target_dir,\n",
    "    local_dir_use_symlinks=False,\n",
    "    ignore_patterns=[\".gitattributes\"]\n",
    ")\n",
    "\n",
    "print(f\"[OK] Dataset downloaded to: {target_dir.resolve()}\")\n"
   ]
  }
 ],
 "metadata": {
  "kernelspec": {
   "display_name": "Python 3",
   "language": "python",
   "name": "python3"
  },
  "language_info": {
   "codemirror_mode": {
    "name": "ipython",
    "version": 3
   },
   "file_extension": ".py",
   "mimetype": "text/x-python",
   "name": "python",
   "nbconvert_exporter": "python",
   "pygments_lexer": "ipython3",
   "version": "3.10.12"
  }
 },
 "nbformat": 4,
 "nbformat_minor": 5
}
