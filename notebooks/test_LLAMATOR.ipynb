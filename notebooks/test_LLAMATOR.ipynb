{
 "cells": [
  {
   "cell_type": "code",
   "execution_count": 1,
   "id": "37ba779bf94cda5e",
   "metadata": {
    "ExecuteTime": {
     "end_time": "2024-09-05T12:14:10.918782Z",
     "start_time": "2024-09-05T12:14:10.907591Z"
    }
   },
   "outputs": [],
   "source": [
    "%load_ext autoreload\n",
    "%autoreload 2"
   ]
  },
  {
   "cell_type": "code",
   "execution_count": 2,
   "id": "11ed419a",
   "metadata": {},
   "outputs": [
    {
     "name": "stdout",
     "output_type": "stream",
     "text": [
      "Obtaining file:///root/llamator\n",
      "  Installing build dependencies ... \u001b[?25ldone\n",
      "\u001b[?25h  Checking if build backend supports build_editable ... \u001b[?25ldone\n",
      "\u001b[?25h  Getting requirements to build editable ... \u001b[?25ldone\n",
      "\u001b[?25h  Preparing editable metadata (pyproject.toml) ... \u001b[?25ldone\n",
      "\u001b[?25hRequirement already satisfied: python-dotenv>=0.5.1 in /root/miniconda3/lib/python3.10/site-packages (from llamator==0.0.1) (1.0.1)\n",
      "Requirement already satisfied: openai==1.6.1 in /root/miniconda3/lib/python3.10/site-packages (from llamator==0.0.1) (1.6.1)\n",
      "Requirement already satisfied: langchain==0.0.353 in /root/miniconda3/lib/python3.10/site-packages (from llamator==0.0.1) (0.0.353)\n",
      "Requirement already satisfied: langchain-community==0.0.7 in /root/miniconda3/lib/python3.10/site-packages (from llamator==0.0.1) (0.0.7)\n",
      "Requirement already satisfied: langchain-core==0.1.4 in /root/miniconda3/lib/python3.10/site-packages (from llamator==0.0.1) (0.1.4)\n",
      "Collecting argparse==1.4.0 (from llamator==0.0.1)\n",
      "  Using cached argparse-1.4.0-py2.py3-none-any.whl.metadata (2.8 kB)\n",
      "Requirement already satisfied: tqdm==4.66.1 in /root/miniconda3/lib/python3.10/site-packages (from llamator==0.0.1) (4.66.1)\n",
      "Requirement already satisfied: colorama==0.4.6 in /root/miniconda3/lib/python3.10/site-packages (from llamator==0.0.1) (0.4.6)\n",
      "Requirement already satisfied: prettytable==3.10.0 in /root/miniconda3/lib/python3.10/site-packages (from llamator==0.0.1) (3.10.0)\n",
      "Requirement already satisfied: pandas==2.2.2 in /root/miniconda3/lib/python3.10/site-packages (from llamator==0.0.1) (2.2.2)\n",
      "Requirement already satisfied: inquirer==3.2.4 in /root/miniconda3/lib/python3.10/site-packages (from llamator==0.0.1) (3.2.4)\n",
      "Requirement already satisfied: prompt-toolkit==3.0.43 in /root/miniconda3/lib/python3.10/site-packages (from llamator==0.0.1) (3.0.43)\n",
      "Requirement already satisfied: fastparquet==2024.2.0 in /root/miniconda3/lib/python3.10/site-packages (from llamator==0.0.1) (2024.2.0)\n",
      "Requirement already satisfied: numpy>=1.20.3 in /root/miniconda3/lib/python3.10/site-packages (from fastparquet==2024.2.0->llamator==0.0.1) (1.24.3)\n",
      "Requirement already satisfied: cramjam>=2.3 in /root/miniconda3/lib/python3.10/site-packages (from fastparquet==2024.2.0->llamator==0.0.1) (2.8.3)\n",
      "Requirement already satisfied: fsspec in /root/miniconda3/lib/python3.10/site-packages (from fastparquet==2024.2.0->llamator==0.0.1) (2024.9.0)\n",
      "Requirement already satisfied: packaging in /root/miniconda3/lib/python3.10/site-packages (from fastparquet==2024.2.0->llamator==0.0.1) (23.2)\n",
      "Requirement already satisfied: blessed>=1.19.0 in /root/miniconda3/lib/python3.10/site-packages (from inquirer==3.2.4->llamator==0.0.1) (1.20.0)\n",
      "Requirement already satisfied: editor>=1.6.0 in /root/miniconda3/lib/python3.10/site-packages (from inquirer==3.2.4->llamator==0.0.1) (1.6.6)\n",
      "Requirement already satisfied: readchar>=3.0.6 in /root/miniconda3/lib/python3.10/site-packages (from inquirer==3.2.4->llamator==0.0.1) (4.2.0)\n",
      "Requirement already satisfied: PyYAML>=5.3 in /root/miniconda3/lib/python3.10/site-packages (from langchain==0.0.353->llamator==0.0.1) (6.0.1)\n",
      "Requirement already satisfied: SQLAlchemy<3,>=1.4 in /root/miniconda3/lib/python3.10/site-packages (from langchain==0.0.353->llamator==0.0.1) (2.0.34)\n",
      "Requirement already satisfied: aiohttp<4.0.0,>=3.8.3 in /root/miniconda3/lib/python3.10/site-packages (from langchain==0.0.353->llamator==0.0.1) (3.10.5)\n",
      "Requirement already satisfied: async-timeout<5.0.0,>=4.0.0 in /root/miniconda3/lib/python3.10/site-packages (from langchain==0.0.353->llamator==0.0.1) (4.0.3)\n",
      "Requirement already satisfied: dataclasses-json<0.7,>=0.5.7 in /root/miniconda3/lib/python3.10/site-packages (from langchain==0.0.353->llamator==0.0.1) (0.6.7)\n",
      "Requirement already satisfied: jsonpatch<2.0,>=1.33 in /root/miniconda3/lib/python3.10/site-packages (from langchain==0.0.353->llamator==0.0.1) (1.33)\n",
      "Requirement already satisfied: langsmith<0.1.0,>=0.0.70 in /root/miniconda3/lib/python3.10/site-packages (from langchain==0.0.353->llamator==0.0.1) (0.0.92)\n",
      "Requirement already satisfied: pydantic<3,>=1 in /root/miniconda3/lib/python3.10/site-packages (from langchain==0.0.353->llamator==0.0.1) (2.9.0)\n",
      "Requirement already satisfied: requests<3,>=2 in /root/miniconda3/lib/python3.10/site-packages (from langchain==0.0.353->llamator==0.0.1) (2.31.0)\n",
      "Requirement already satisfied: tenacity<9.0.0,>=8.1.0 in /root/miniconda3/lib/python3.10/site-packages (from langchain==0.0.353->llamator==0.0.1) (8.5.0)\n",
      "Requirement already satisfied: anyio<5,>=3 in /root/miniconda3/lib/python3.10/site-packages (from langchain-core==0.1.4->llamator==0.0.1) (4.1.0)\n",
      "Requirement already satisfied: distro<2,>=1.7.0 in /root/miniconda3/lib/python3.10/site-packages (from openai==1.6.1->llamator==0.0.1) (1.8.0)\n",
      "Requirement already satisfied: httpx<1,>=0.23.0 in /root/miniconda3/lib/python3.10/site-packages (from openai==1.6.1->llamator==0.0.1) (0.27.2)\n",
      "Requirement already satisfied: sniffio in /root/miniconda3/lib/python3.10/site-packages (from openai==1.6.1->llamator==0.0.1) (1.3.0)\n",
      "Requirement already satisfied: typing-extensions<5,>=4.7 in /root/miniconda3/lib/python3.10/site-packages (from openai==1.6.1->llamator==0.0.1) (4.9.0)\n",
      "Requirement already satisfied: python-dateutil>=2.8.2 in /root/miniconda3/lib/python3.10/site-packages (from pandas==2.2.2->llamator==0.0.1) (2.8.2)\n",
      "Requirement already satisfied: pytz>=2020.1 in /root/miniconda3/lib/python3.10/site-packages (from pandas==2.2.2->llamator==0.0.1) (2024.1)\n",
      "Requirement already satisfied: tzdata>=2022.7 in /root/miniconda3/lib/python3.10/site-packages (from pandas==2.2.2->llamator==0.0.1) (2024.1)\n",
      "Requirement already satisfied: wcwidth in /root/miniconda3/lib/python3.10/site-packages (from prettytable==3.10.0->llamator==0.0.1) (0.2.12)\n",
      "Requirement already satisfied: aiohappyeyeballs>=2.3.0 in /root/miniconda3/lib/python3.10/site-packages (from aiohttp<4.0.0,>=3.8.3->langchain==0.0.353->llamator==0.0.1) (2.4.0)\n",
      "Requirement already satisfied: aiosignal>=1.1.2 in /root/miniconda3/lib/python3.10/site-packages (from aiohttp<4.0.0,>=3.8.3->langchain==0.0.353->llamator==0.0.1) (1.3.1)\n",
      "Requirement already satisfied: attrs>=17.3.0 in /root/miniconda3/lib/python3.10/site-packages (from aiohttp<4.0.0,>=3.8.3->langchain==0.0.353->llamator==0.0.1) (23.1.0)\n",
      "Requirement already satisfied: frozenlist>=1.1.1 in /root/miniconda3/lib/python3.10/site-packages (from aiohttp<4.0.0,>=3.8.3->langchain==0.0.353->llamator==0.0.1) (1.4.1)\n",
      "Requirement already satisfied: multidict<7.0,>=4.5 in /root/miniconda3/lib/python3.10/site-packages (from aiohttp<4.0.0,>=3.8.3->langchain==0.0.353->llamator==0.0.1) (6.0.5)\n",
      "Requirement already satisfied: yarl<2.0,>=1.0 in /root/miniconda3/lib/python3.10/site-packages (from aiohttp<4.0.0,>=3.8.3->langchain==0.0.353->llamator==0.0.1) (1.9.11)\n",
      "Requirement already satisfied: idna>=2.8 in /root/miniconda3/lib/python3.10/site-packages (from anyio<5,>=3->langchain-core==0.1.4->llamator==0.0.1) (3.4)\n",
      "Requirement already satisfied: exceptiongroup>=1.0.2 in /root/miniconda3/lib/python3.10/site-packages (from anyio<5,>=3->langchain-core==0.1.4->llamator==0.0.1) (1.2.0)\n",
      "Requirement already satisfied: six>=1.9.0 in /root/miniconda3/lib/python3.10/site-packages (from blessed>=1.19.0->inquirer==3.2.4->llamator==0.0.1) (1.16.0)\n",
      "Requirement already satisfied: marshmallow<4.0.0,>=3.18.0 in /root/miniconda3/lib/python3.10/site-packages (from dataclasses-json<0.7,>=0.5.7->langchain==0.0.353->llamator==0.0.1) (3.22.0)\n",
      "Requirement already satisfied: typing-inspect<1,>=0.4.0 in /root/miniconda3/lib/python3.10/site-packages (from dataclasses-json<0.7,>=0.5.7->langchain==0.0.353->llamator==0.0.1) (0.9.0)\n",
      "Requirement already satisfied: runs in /root/miniconda3/lib/python3.10/site-packages (from editor>=1.6.0->inquirer==3.2.4->llamator==0.0.1) (1.2.2)\n",
      "Requirement already satisfied: xmod in /root/miniconda3/lib/python3.10/site-packages (from editor>=1.6.0->inquirer==3.2.4->llamator==0.0.1) (1.8.1)\n",
      "Requirement already satisfied: certifi in /root/miniconda3/lib/python3.10/site-packages (from httpx<1,>=0.23.0->openai==1.6.1->llamator==0.0.1) (2023.11.17)\n",
      "Requirement already satisfied: httpcore==1.* in /root/miniconda3/lib/python3.10/site-packages (from httpx<1,>=0.23.0->openai==1.6.1->llamator==0.0.1) (1.0.5)\n",
      "Requirement already satisfied: h11<0.15,>=0.13 in /root/miniconda3/lib/python3.10/site-packages (from httpcore==1.*->httpx<1,>=0.23.0->openai==1.6.1->llamator==0.0.1) (0.14.0)\n",
      "Requirement already satisfied: jsonpointer>=1.9 in /root/miniconda3/lib/python3.10/site-packages (from jsonpatch<2.0,>=1.33->langchain==0.0.353->llamator==0.0.1) (2.1)\n",
      "Requirement already satisfied: annotated-types>=0.4.0 in /root/miniconda3/lib/python3.10/site-packages (from pydantic<3,>=1->langchain==0.0.353->llamator==0.0.1) (0.7.0)\n",
      "Requirement already satisfied: pydantic-core==2.23.2 in /root/miniconda3/lib/python3.10/site-packages (from pydantic<3,>=1->langchain==0.0.353->llamator==0.0.1) (2.23.2)\n",
      "Requirement already satisfied: charset-normalizer<4,>=2 in /root/miniconda3/lib/python3.10/site-packages (from requests<3,>=2->langchain==0.0.353->llamator==0.0.1) (2.0.4)\n",
      "Requirement already satisfied: urllib3<3,>=1.21.1 in /root/miniconda3/lib/python3.10/site-packages (from requests<3,>=2->langchain==0.0.353->llamator==0.0.1) (1.26.18)\n",
      "Requirement already satisfied: greenlet!=0.4.17 in /root/miniconda3/lib/python3.10/site-packages (from SQLAlchemy<3,>=1.4->langchain==0.0.353->llamator==0.0.1) (3.0.3)\n",
      "Requirement already satisfied: mypy-extensions>=0.3.0 in /root/miniconda3/lib/python3.10/site-packages (from typing-inspect<1,>=0.4.0->dataclasses-json<0.7,>=0.5.7->langchain==0.0.353->llamator==0.0.1) (1.0.0)\n",
      "Using cached argparse-1.4.0-py2.py3-none-any.whl (23 kB)\n",
      "Building wheels for collected packages: llamator\n",
      "  Building editable for llamator (pyproject.toml) ... \u001b[?25ldone\n",
      "\u001b[?25h  Created wheel for llamator: filename=llamator-0.0.1-0.editable-py2.py3-none-any.whl size=7461 sha256=4a3b39f8bcaeb6fbdd82974aa39c88bcb72b86a143133dcfe5dd11848f9ef699\n",
      "  Stored in directory: /tmp/pip-ephem-wheel-cache-wvl4m4rc/wheels/f4/23/d1/14f3c3a6ae065969965c54e0ab8bf19ed32520b2082925f72f\n",
      "Successfully built llamator\n",
      "Installing collected packages: argparse, llamator\n",
      "  Attempting uninstall: llamator\n",
      "    Found existing installation: llamator 0.0.1\n",
      "    Uninstalling llamator-0.0.1:\n",
      "      Successfully uninstalled llamator-0.0.1\n",
      "Successfully installed argparse-1.4.0 llamator-0.0.1\n",
      "\u001b[33mWARNING: Running pip as the 'root' user can result in broken permissions and conflicting behaviour with the system package manager. It is recommended to use a virtual environment instead: https://pip.pypa.io/warnings/venv\u001b[0m\u001b[33m\n",
      "\u001b[0m"
     ]
    }
   ],
   "source": [
    "! pip install -e ../"
   ]
  },
  {
   "cell_type": "code",
   "execution_count": 3,
   "id": "fdabcfb7867b8e78",
   "metadata": {
    "ExecuteTime": {
     "end_time": "2024-09-05T12:14:23.585814Z",
     "start_time": "2024-09-05T12:14:11.270901Z"
    }
   },
   "outputs": [],
   "source": [
    "from llamator.main import start_testing\n",
    "from llamator.client.specific_chat_clients import ClientLLMStudio, ClientDeepSeek"
   ]
  },
  {
   "cell_type": "code",
   "execution_count": 4,
   "id": "efaef65180cd591f",
   "metadata": {
    "ExecuteTime": {
     "end_time": "2024-09-05T12:14:40.054165Z",
     "start_time": "2024-09-05T12:14:40.038429Z"
    }
   },
   "outputs": [],
   "source": [
    "# %env OPENAI_API_KEY=\n",
    "# %env ANTHROPIC_API_KEY=\n",
    "# %env ANYSCALE_API_KEY=\n",
    "# %env AZURE_OPENAI_API_KEY=\n",
    "# %env BAICHUAN_API_KEY=\n",
    "# %env COHERE_API_KEY=\n",
    "# %env EVERLYAI_API_KEY=\n",
    "# %env FIREWORKS_API_KEY=\n",
    "# %env GIGACHAT_CREDENTIALS=\n",
    "# %env GOOGLE_API_KEY=\n",
    "# %env JINA_API_TOKEN=\n",
    "# %env KONKO_API_KEY=\n",
    "# %env MINIMAX_API_KEY=\n",
    "# %env MINIMAX_GROUP_ID=\n",
    "# %env PROMPTLAYER_API_KEY=\n",
    "# %env QIANFAN_AK=\n",
    "# %env QIANFAN_SK=\n",
    "# %env YC_API_KEY="
   ]
  },
  {
   "cell_type": "code",
   "execution_count": 12,
   "id": "51bd2a0a6fe9ecf",
   "metadata": {
    "ExecuteTime": {
     "end_time": "2024-09-05T12:14:40.312686Z",
     "start_time": "2024-09-05T12:14:40.296386Z"
    }
   },
   "outputs": [],
   "source": [
    "ALL_BASIC_TESTS = [\n",
    "    \"sycophance_test\",\n",
    "]\n",
    "\n",
    "\n",
    "deepseek_api_key = \"sk-457898ae3f4f455fbbefa55b6bd0ec30\"\n",
    "model_name = \"deepseek-chat\""
   ]
  },
  {
   "cell_type": "code",
   "execution_count": 13,
   "id": "b3c07a9f068e3189",
   "metadata": {
    "ExecuteTime": {
     "end_time": "2024-09-05T12:14:41.756539Z",
     "start_time": "2024-09-05T12:14:41.743652Z"
    }
   },
   "outputs": [],
   "source": [
    "def test_LLAMATOR():\n",
    "    # Initialize the attack_model and tested_model as ClientLLMStudio\n",
    "    attack_model = ClientDeepSeek(temperature=0.1, system_prompts=['You are a strong model.'], api_key=deepseek_api_key, model = model_name)\n",
    "    tested_model = ClientDeepSeek(temperature=0.1, system_prompts=['You are a chat bot for a pizza company.'], api_key=deepseek_api_key, model = model_name)\n",
    "\n",
    "    # Tests to be run\n",
    "    tests = ALL_BASIC_TESTS\n",
    "\n",
    "    start_testing(attack_model, tested_model, tests=tests, debug_level=1)"
   ]
  },
  {
   "cell_type": "code",
   "execution_count": 14,
   "id": "initial_id",
   "metadata": {
    "ExecuteTime": {
     "end_time": "2024-09-05T12:16:24.693591Z",
     "start_time": "2024-09-05T12:14:41.933624Z"
    }
   },
   "outputs": [
    {
     "name": "stdout",
     "output_type": "stream",
     "text": [
      "\n",
      "    __    __    ___    __  ______  __________  ____\n",
      "   / /   / /   /   |  /  |/  /   |/_  __/ __ \\\\/ __ \\\n",
      "  / /   / /   / /| | / /|_/ / /| | / / / / / / /_/ /\n",
      " / /___/ /___/ ___ |/ /  / / ___ |/ / / /_/ / _, _/\n",
      "/_____/_____/_/  |_/_/  /_/_/  |_/_/  \\\\____/_/ |_|\n",
      "\n"
     ]
    },
    {
     "name": "stderr",
     "output_type": "stream",
     "text": [
      "2024-09-06 16:01:52,507 [ERROR] [initial_validation.py:68]: Invalid tests: sycophance_test\n",
      "2024-09-06 16:01:52,509 [ERROR] [main.py:87]: The test list contains invalid values.\n"
     ]
    }
   ],
   "source": [
    "# Запускаем тест\n",
    "test_LLAMATOR()"
   ]
  },
  {
   "cell_type": "code",
   "execution_count": null,
   "id": "6b3d630fc7e9ce7e",
   "metadata": {},
   "outputs": [],
   "source": []
  }
 ],
 "metadata": {
  "kernelspec": {
   "display_name": "Python 3",
   "language": "python",
   "name": "python3"
  },
  "language_info": {
   "codemirror_mode": {
    "name": "ipython",
    "version": 3
   },
   "file_extension": ".py",
   "mimetype": "text/x-python",
   "name": "python",
   "nbconvert_exporter": "python",
   "pygments_lexer": "ipython3",
   "version": "3.10.13"
  }
 },
 "nbformat": 4,
 "nbformat_minor": 5
}
