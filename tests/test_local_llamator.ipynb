{
 "cells": [
  {
   "cell_type": "code",
   "id": "initial_id",
   "metadata": {
    "collapsed": true,
    "ExecuteTime": {
     "end_time": "2025-03-29T12:16:37.665293Z",
     "start_time": "2025-03-29T12:16:33.873106Z"
    }
   },
   "source": [
    "import os\n",
    "from dotenv import load_dotenv\n",
    "from llamator.client.specific_chat_clients import ClientOpenAI\n",
    "from llamator import print_preset_tests_params_example"
   ],
   "outputs": [],
   "execution_count": 1
  },
  {
   "metadata": {
    "ExecuteTime": {
     "end_time": "2025-03-29T12:16:46.239581Z",
     "start_time": "2025-03-29T12:16:46.227661Z"
    }
   },
   "cell_type": "code",
   "source": "print_preset_tests_params_example(\"all\")",
   "id": "aa323a06dc9099cd",
   "outputs": [
    {
     "name": "stdout",
     "output_type": "stream",
     "text": [
      "# Example configuration for preset 'all':\n",
      "basic_tests_params = [\n",
      "    (\"suffix\", {\"num_attempts\": 0}),\n",
      "    (\"aim_jailbreak\", {\"num_attempts\": 0}),\n",
      "    (\"base64_injection\", {\"num_attempts\": 0}),\n",
      "    (\"bon\", {\"num_attempts\": 0, \"multistage_depth\": 5, \"sigma\": 0.4}),\n",
      "    (\"complimentary_transition\", {\"num_attempts\": 0}),\n",
      "    (\"crescendo\", {\"num_attempts\": 0, \"multistage_depth\": 20}),\n",
      "    (\"dan\", {\"num_attempts\": 0}),\n",
      "    (\"RU_do_anything_now_jailbreak\", {\"num_attempts\": 0}),\n",
      "    (\"ethical_compliance\", {\"num_attempts\": 0}),\n",
      "    (\"harmful_behavior\", {\"num_attempts\": 0}),\n",
      "    (\"harmful_behavior_multistage\", {\"num_attempts\": 0, \"multistage_depth\": 20}),\n",
      "    (\"linguistic_evasion\", {\"num_attempts\": 0}),\n",
      "    (\"logical_inconsistencies\", {\"num_attempts\": 0, \"multistage_depth\": 20}),\n",
      "    (\"past_tense\", {\"num_attempts\": 0}),\n",
      "    (\"shuffle\", {\"num_attempts\": 0}),\n",
      "    (\"sycophancy\", {\"num_attempts\": 0, \"multistage_depth\": 20}),\n",
      "    (\"system_prompt_leakage\", {\"num_attempts\": 0, \"multistage_depth\": 20}),\n",
      "    (\"typoglycemia_attack\", {\"num_attempts\": 0}),\n",
      "    (\"RU_typoglycemia_attack\", {\"num_attempts\": 0}),\n",
      "    (\"ucar\", {\"num_attempts\": 0}),\n",
      "    (\"RU_ucar\", {\"num_attempts\": 0}),\n",
      "]\n"
     ]
    }
   ],
   "execution_count": 3
  },
  {
   "metadata": {
    "ExecuteTime": {
     "end_time": "2025-03-29T12:16:51.471616Z",
     "start_time": "2025-03-29T12:16:51.467606Z"
    }
   },
   "cell_type": "code",
   "source": [
    "load_dotenv()\n",
    "\n",
    "api_key = os.getenv(\"OPENAI_CLIENT_API_KEY\")\n",
    "base_url = os.getenv(\"OPENAI_CLIENT_BASEURL\")\n",
    "model = os.getenv(\"OPENAI_CLIENT_MODEL\")"
   ],
   "id": "b4efe3401c64a19c",
   "outputs": [],
   "execution_count": 4
  },
  {
   "metadata": {
    "ExecuteTime": {
     "end_time": "2025-03-29T12:16:51.888978Z",
     "start_time": "2025-03-29T12:16:51.885603Z"
    }
   },
   "cell_type": "code",
   "source": [
    "def test_openai_client():\n",
    "    \"\"\"\n",
    "    Tests OpenAI client from local llamator lib.\n",
    "\n",
    "    Environment variables\n",
    "    ----------\n",
    "    OPENAI_CLIENT_API_KEY : str\n",
    "        API key for OpenAI compatible API\n",
    "    OPENAI_CLIENT_BASEURL : str\n",
    "        URL of OpenAI compatible API\n",
    "    OPENAI_CLIENT_MODEL : str\n",
    "        Type of model\n",
    "    \"\"\"\n",
    "\n",
    "    attack_model = ClientOpenAI(\n",
    "        api_key=api_key,\n",
    "        base_url=base_url,\n",
    "        model=model,\n",
    "        temperature=0.1,\n",
    "        system_prompts=[\"You are a strong model.\"],\n",
    "    )\n",
    "\n",
    "    tested_model = ClientOpenAI(\n",
    "        api_key=api_key,\n",
    "        base_url=base_url,\n",
    "        model=model,\n",
    "        temperature=0.1,\n",
    "        model_description=\"Support bot\",\n",
    "    )\n",
    "\n",
    "    judge_model = ClientOpenAI(\n",
    "        api_key=api_key,\n",
    "        base_url=base_url,\n",
    "        model=model,\n",
    "        temperature=0.1,\n",
    "        system_prompts=[\"You are a judge model.\"],\n",
    "    )\n",
    "\n",
    "    basic_tests_params = [\n",
    "        (\"aim_jailbreak\", {\"num_attempts\": 6}),\n",
    "    ]\n",
    "\n",
    "    config = {\n",
    "        \"enable_logging\": True,  # Enable logging\n",
    "        \"enable_reports\": True,  # Enable report generation\n",
    "        \"artifacts_path\": \"./artifacts\",  # Path to the directory for saving artifacts\n",
    "        \"debug_level\": 1,  # Logging level: 0 - WARNING, 1 - INFO, 2 - DEBUG\n",
    "        \"report_language\": \"en\",  # Report language: 'en', 'ru'\n",
    "    }\n",
    "\n",
    "    from llamator.main import start_testing\n",
    "\n",
    "    start_testing(\n",
    "        attack_model=attack_model,\n",
    "        tested_model=tested_model,\n",
    "        judge_model=judge_model,\n",
    "        config=config,\n",
    "        basic_tests_params=basic_tests_params,\n",
    "    )"
   ],
   "id": "5128c2c6f3b32684",
   "outputs": [],
   "execution_count": 5
  },
  {
   "metadata": {
    "ExecuteTime": {
     "end_time": "2025-03-29T12:17:36.083924Z",
     "start_time": "2025-03-29T12:16:53.372857Z"
    }
   },
   "cell_type": "code",
   "source": "test_openai_client()",
   "id": "864bb3f08d72a47d",
   "outputs": [
    {
     "name": "stdout",
     "output_type": "stream",
     "text": [
      "\n",
      "    __    __    ___    __  ______  __________  ____\n",
      "   / /   / /   /   |  /  |/  /   |/_  __/ __ \\/ __ \\\n",
      "  / /   / /   / /| | / /|_/ / /| | / / / / / / /_/ /\n",
      " / /___/ /___/ ___ |/ /  / / ___ |/ / / /_/ / _, _/\n",
      "/_____/_____/_/  |_/_/  /_/_/  |_/_/  \\____/_/ |_|\n",
      "\n",
      "Running tests on your system prompt ...\n"
     ]
    },
    {
     "name": "stderr",
     "output_type": "stream",
     "text": [
      "Test progress ........................................:   0%|          | 0/1 [00:00<?, ?it/s]:   0%|          | 0/1 [00:00<?, ?it/s]"
     ]
    },
    {
     "ename": "KeyboardInterrupt",
     "evalue": "",
     "output_type": "error",
     "traceback": [
      "\u001B[0;31m---------------------------------------------------------------------------\u001B[0m",
      "\u001B[0;31mKeyboardInterrupt\u001B[0m                         Traceback (most recent call last)",
      "File \u001B[0;32m~/PycharmProjects/llamator/src/llamator/attack_provider/work_progress_pool.py:108\u001B[0m, in \u001B[0;36mWorkProgressPool.run\u001B[0;34m(self, tasks, tasks_count)\u001B[0m\n\u001B[1;32m    107\u001B[0m     \u001B[38;5;28;01mfor\u001B[39;00m future \u001B[38;5;129;01min\u001B[39;00m futures:\n\u001B[0;32m--> 108\u001B[0m         \u001B[43mfuture\u001B[49m\u001B[38;5;241;43m.\u001B[39;49m\u001B[43mresult\u001B[49m\u001B[43m(\u001B[49m\u001B[43m)\u001B[49m\n\u001B[1;32m    110\u001B[0m \u001B[38;5;66;03m# Shut down the worker properly\u001B[39;00m\n",
      "File \u001B[0;32m/Library/Frameworks/Python.framework/Versions/3.10/lib/python3.10/concurrent/futures/_base.py:453\u001B[0m, in \u001B[0;36mFuture.result\u001B[0;34m(self, timeout)\u001B[0m\n\u001B[1;32m    451\u001B[0m     \u001B[38;5;28;01mreturn\u001B[39;00m \u001B[38;5;28mself\u001B[39m\u001B[38;5;241m.\u001B[39m__get_result()\n\u001B[0;32m--> 453\u001B[0m \u001B[38;5;28;43mself\u001B[39;49m\u001B[38;5;241;43m.\u001B[39;49m\u001B[43m_condition\u001B[49m\u001B[38;5;241;43m.\u001B[39;49m\u001B[43mwait\u001B[49m\u001B[43m(\u001B[49m\u001B[43mtimeout\u001B[49m\u001B[43m)\u001B[49m\n\u001B[1;32m    455\u001B[0m \u001B[38;5;28;01mif\u001B[39;00m \u001B[38;5;28mself\u001B[39m\u001B[38;5;241m.\u001B[39m_state \u001B[38;5;129;01min\u001B[39;00m [CANCELLED, CANCELLED_AND_NOTIFIED]:\n",
      "File \u001B[0;32m/Library/Frameworks/Python.framework/Versions/3.10/lib/python3.10/threading.py:320\u001B[0m, in \u001B[0;36mCondition.wait\u001B[0;34m(self, timeout)\u001B[0m\n\u001B[1;32m    319\u001B[0m \u001B[38;5;28;01mif\u001B[39;00m timeout \u001B[38;5;129;01mis\u001B[39;00m \u001B[38;5;28;01mNone\u001B[39;00m:\n\u001B[0;32m--> 320\u001B[0m     \u001B[43mwaiter\u001B[49m\u001B[38;5;241;43m.\u001B[39;49m\u001B[43macquire\u001B[49m\u001B[43m(\u001B[49m\u001B[43m)\u001B[49m\n\u001B[1;32m    321\u001B[0m     gotit \u001B[38;5;241m=\u001B[39m \u001B[38;5;28;01mTrue\u001B[39;00m\n",
      "\u001B[0;31mKeyboardInterrupt\u001B[0m: ",
      "\nDuring handling of the above exception, another exception occurred:\n",
      "\u001B[0;31mKeyboardInterrupt\u001B[0m                         Traceback (most recent call last)",
      "Cell \u001B[0;32mIn[6], line 1\u001B[0m\n\u001B[0;32m----> 1\u001B[0m \u001B[43mtest_openai_client\u001B[49m\u001B[43m(\u001B[49m\u001B[43m)\u001B[49m\n",
      "Cell \u001B[0;32mIn[5], line 53\u001B[0m, in \u001B[0;36mtest_openai_client\u001B[0;34m()\u001B[0m\n\u001B[1;32m     43\u001B[0m config \u001B[38;5;241m=\u001B[39m {\n\u001B[1;32m     44\u001B[0m     \u001B[38;5;124m\"\u001B[39m\u001B[38;5;124menable_logging\u001B[39m\u001B[38;5;124m\"\u001B[39m: \u001B[38;5;28;01mTrue\u001B[39;00m,  \u001B[38;5;66;03m# Enable logging\u001B[39;00m\n\u001B[1;32m     45\u001B[0m     \u001B[38;5;124m\"\u001B[39m\u001B[38;5;124menable_reports\u001B[39m\u001B[38;5;124m\"\u001B[39m: \u001B[38;5;28;01mTrue\u001B[39;00m,  \u001B[38;5;66;03m# Enable report generation\u001B[39;00m\n\u001B[0;32m   (...)\u001B[0m\n\u001B[1;32m     48\u001B[0m     \u001B[38;5;124m\"\u001B[39m\u001B[38;5;124mreport_language\u001B[39m\u001B[38;5;124m\"\u001B[39m: \u001B[38;5;124m\"\u001B[39m\u001B[38;5;124men\u001B[39m\u001B[38;5;124m\"\u001B[39m,  \u001B[38;5;66;03m# Report language: 'en', 'ru'\u001B[39;00m\n\u001B[1;32m     49\u001B[0m }\n\u001B[1;32m     51\u001B[0m \u001B[38;5;28;01mfrom\u001B[39;00m \u001B[38;5;21;01mllamator\u001B[39;00m\u001B[38;5;21;01m.\u001B[39;00m\u001B[38;5;21;01mmain\u001B[39;00m \u001B[38;5;28;01mimport\u001B[39;00m start_testing\n\u001B[0;32m---> 53\u001B[0m \u001B[43mstart_testing\u001B[49m\u001B[43m(\u001B[49m\n\u001B[1;32m     54\u001B[0m \u001B[43m    \u001B[49m\u001B[43mattack_model\u001B[49m\u001B[38;5;241;43m=\u001B[39;49m\u001B[43mattack_model\u001B[49m\u001B[43m,\u001B[49m\n\u001B[1;32m     55\u001B[0m \u001B[43m    \u001B[49m\u001B[43mtested_model\u001B[49m\u001B[38;5;241;43m=\u001B[39;49m\u001B[43mtested_model\u001B[49m\u001B[43m,\u001B[49m\n\u001B[1;32m     56\u001B[0m \u001B[43m    \u001B[49m\u001B[43mjudge_model\u001B[49m\u001B[38;5;241;43m=\u001B[39;49m\u001B[43mjudge_model\u001B[49m\u001B[43m,\u001B[49m\n\u001B[1;32m     57\u001B[0m \u001B[43m    \u001B[49m\u001B[43mconfig\u001B[49m\u001B[38;5;241;43m=\u001B[39;49m\u001B[43mconfig\u001B[49m\u001B[43m,\u001B[49m\n\u001B[1;32m     58\u001B[0m \u001B[43m    \u001B[49m\u001B[43mbasic_tests_params\u001B[49m\u001B[38;5;241;43m=\u001B[39;49m\u001B[43mbasic_tests_params\u001B[49m\u001B[43m,\u001B[49m\n\u001B[1;32m     59\u001B[0m \u001B[43m\u001B[49m\u001B[43m)\u001B[49m\n",
      "File \u001B[0;32m~/PycharmProjects/llamator/src/llamator/main.py:149\u001B[0m, in \u001B[0;36mstart_testing\u001B[0;34m(attack_model, judge_model, tested_model, config, num_threads, basic_tests_params, custom_tests_params)\u001B[0m\n\u001B[1;32m    146\u001B[0m     logging\u001B[38;5;241m.\u001B[39merror(\u001B[38;5;124m\"\u001B[39m\u001B[38;5;124mOne or more custom tests failed validation.\u001B[39m\u001B[38;5;124m\"\u001B[39m)\n\u001B[1;32m    147\u001B[0m     \u001B[38;5;28;01mreturn\u001B[39;00m\n\u001B[0;32m--> 149\u001B[0m \u001B[43msetup_models_and_tests\u001B[49m\u001B[43m(\u001B[49m\n\u001B[1;32m    150\u001B[0m \u001B[43m    \u001B[49m\u001B[43mattack_model\u001B[49m\u001B[38;5;241;43m=\u001B[39;49m\u001B[43mattack_model\u001B[49m\u001B[43m,\u001B[49m\n\u001B[1;32m    151\u001B[0m \u001B[43m    \u001B[49m\u001B[43mjudge_model\u001B[49m\u001B[38;5;241;43m=\u001B[39;49m\u001B[43mjudge_model\u001B[49m\u001B[43m,\u001B[49m\n\u001B[1;32m    152\u001B[0m \u001B[43m    \u001B[49m\u001B[43mtested_model\u001B[49m\u001B[38;5;241;43m=\u001B[39;49m\u001B[43mtested_model\u001B[49m\u001B[43m,\u001B[49m\n\u001B[1;32m    153\u001B[0m \u001B[43m    \u001B[49m\u001B[43mnum_threads\u001B[49m\u001B[38;5;241;43m=\u001B[39;49m\u001B[43mnum_threads\u001B[49m\u001B[43m,\u001B[49m\n\u001B[1;32m    154\u001B[0m \u001B[43m    \u001B[49m\u001B[43mbasic_tests_params\u001B[49m\u001B[38;5;241;43m=\u001B[39;49m\u001B[43mbasic_tests_params\u001B[49m\u001B[43m,\u001B[49m\n\u001B[1;32m    155\u001B[0m \u001B[43m    \u001B[49m\u001B[43mcustom_tests_params\u001B[49m\u001B[38;5;241;43m=\u001B[39;49m\u001B[43mcustom_tests_params\u001B[49m\u001B[43m,\u001B[49m\n\u001B[1;32m    156\u001B[0m \u001B[43m    \u001B[49m\u001B[43martifacts_path\u001B[49m\u001B[38;5;241;43m=\u001B[39;49m\u001B[43martifacts_run_path\u001B[49m\u001B[43m \u001B[49m\u001B[38;5;28;43;01mif\u001B[39;49;00m\u001B[43m \u001B[49m\u001B[43menable_reports\u001B[49m\u001B[43m \u001B[49m\u001B[38;5;28;43;01melse\u001B[39;49;00m\u001B[43m \u001B[49m\u001B[38;5;28;43;01mNone\u001B[39;49;00m\u001B[43m,\u001B[49m\n\u001B[1;32m    157\u001B[0m \u001B[43m\u001B[49m\u001B[43m)\u001B[49m\n\u001B[1;32m    159\u001B[0m logging\u001B[38;5;241m.\u001B[39minfo(\u001B[38;5;124m\"\u001B[39m\u001B[38;5;124mCompletion of testing\u001B[39m\u001B[38;5;124m\"\u001B[39m)\n\u001B[1;32m    161\u001B[0m \u001B[38;5;66;03m# Explicitly close log files at the end of the program\u001B[39;00m\n",
      "File \u001B[0;32m~/PycharmProjects/llamator/src/llamator/attack_provider/run_tests.py:389\u001B[0m, in \u001B[0;36msetup_models_and_tests\u001B[0;34m(attack_model, judge_model, tested_model, num_threads, basic_tests_params, custom_tests_params, artifacts_path)\u001B[0m\n\u001B[1;32m    386\u001B[0m     judge_config \u001B[38;5;241m=\u001B[39m \u001B[38;5;28;01mNone\u001B[39;00m\n\u001B[1;32m    388\u001B[0m \u001B[38;5;66;03m# Run tests\u001B[39;00m\n\u001B[0;32m--> 389\u001B[0m \u001B[43mrun_tests\u001B[49m\u001B[43m(\u001B[49m\n\u001B[1;32m    390\u001B[0m \u001B[43m    \u001B[49m\u001B[43mclient_config\u001B[49m\u001B[38;5;241;43m=\u001B[39;49m\u001B[43mclient_config\u001B[49m\u001B[43m,\u001B[49m\n\u001B[1;32m    391\u001B[0m \u001B[43m    \u001B[49m\u001B[43mattack_config\u001B[49m\u001B[38;5;241;43m=\u001B[39;49m\u001B[43mattack_config\u001B[49m\u001B[43m,\u001B[49m\n\u001B[1;32m    392\u001B[0m \u001B[43m    \u001B[49m\u001B[43mjudge_config\u001B[49m\u001B[38;5;241;43m=\u001B[39;49m\u001B[43mjudge_config\u001B[49m\u001B[43m,\u001B[49m\n\u001B[1;32m    393\u001B[0m \u001B[43m    \u001B[49m\u001B[43mthreads_count\u001B[49m\u001B[38;5;241;43m=\u001B[39;49m\u001B[43mnum_threads\u001B[49m\u001B[43m,\u001B[49m\n\u001B[1;32m    394\u001B[0m \u001B[43m    \u001B[49m\u001B[43mbasic_tests_params\u001B[49m\u001B[38;5;241;43m=\u001B[39;49m\u001B[43mbasic_tests_params\u001B[49m\u001B[43m,\u001B[49m\n\u001B[1;32m    395\u001B[0m \u001B[43m    \u001B[49m\u001B[43mcustom_tests_params\u001B[49m\u001B[38;5;241;43m=\u001B[39;49m\u001B[43mcustom_tests_params\u001B[49m\u001B[43m,\u001B[49m\n\u001B[1;32m    396\u001B[0m \u001B[43m    \u001B[49m\u001B[43martifacts_path\u001B[49m\u001B[38;5;241;43m=\u001B[39;49m\u001B[43martifacts_path\u001B[49m\u001B[43m,\u001B[49m\n\u001B[1;32m    397\u001B[0m \u001B[43m\u001B[49m\u001B[43m)\u001B[49m\n",
      "File \u001B[0;32m~/PycharmProjects/llamator/src/llamator/attack_provider/run_tests.py:167\u001B[0m, in \u001B[0;36mrun_tests\u001B[0;34m(client_config, attack_config, judge_config, threads_count, basic_tests_params, custom_tests_params, artifacts_path)\u001B[0m\n\u001B[1;32m    157\u001B[0m tests: List[TestBase] \u001B[38;5;241m=\u001B[39m instantiate_tests(\n\u001B[1;32m    158\u001B[0m     client_config\u001B[38;5;241m=\u001B[39mclient_config,\n\u001B[1;32m    159\u001B[0m     attack_config\u001B[38;5;241m=\u001B[39mattack_config,\n\u001B[0;32m   (...)\u001B[0m\n\u001B[1;32m    163\u001B[0m     artifacts_path\u001B[38;5;241m=\u001B[39martifacts_path,\n\u001B[1;32m    164\u001B[0m )\n\u001B[1;32m    166\u001B[0m \u001B[38;5;66;03m# Run tests in parallel mode\u001B[39;00m\n\u001B[0;32m--> 167\u001B[0m \u001B[43mrun_tests_in_parallel\u001B[49m\u001B[43m(\u001B[49m\u001B[43mtests\u001B[49m\u001B[43m,\u001B[49m\u001B[43m \u001B[49m\u001B[43mthreads_count\u001B[49m\u001B[43m)\u001B[49m\n\u001B[1;32m    169\u001B[0m \u001B[38;5;66;03m# Report test results\u001B[39;00m\n\u001B[1;32m    170\u001B[0m report_results(tests)\n",
      "File \u001B[0;32m~/PycharmProjects/llamator/src/llamator/attack_provider/run_tests.py:196\u001B[0m, in \u001B[0;36mrun_tests_in_parallel\u001B[0;34m(tests, threads_count)\u001B[0m\n\u001B[1;32m    192\u001B[0m test_tasks \u001B[38;5;241m=\u001B[39m \u001B[38;5;28mmap\u001B[39m(TestTask, tests)\n\u001B[1;32m    194\u001B[0m \u001B[38;5;66;03m# Run the tests (in parallel if num_of_threads > 1)\u001B[39;00m\n\u001B[1;32m    195\u001B[0m \u001B[38;5;66;03m# A known number of tests allows for progress bar display\u001B[39;00m\n\u001B[0;32m--> 196\u001B[0m \u001B[43mwork_pool\u001B[49m\u001B[38;5;241;43m.\u001B[39;49m\u001B[43mrun\u001B[49m\u001B[43m(\u001B[49m\u001B[43mThreadSafeTaskIterator\u001B[49m\u001B[43m(\u001B[49m\u001B[43mtest_tasks\u001B[49m\u001B[43m)\u001B[49m\u001B[43m,\u001B[49m\u001B[43m \u001B[49m\u001B[38;5;28;43mlen\u001B[39;49m\u001B[43m(\u001B[49m\u001B[43mtests\u001B[49m\u001B[43m)\u001B[49m\u001B[43m)\u001B[49m\n",
      "File \u001B[0;32m~/PycharmProjects/llamator/src/llamator/attack_provider/work_progress_pool.py:103\u001B[0m, in \u001B[0;36mWorkProgressPool.run\u001B[0;34m(self, tasks, tasks_count)\u001B[0m\n\u001B[1;32m    100\u001B[0m     \u001B[38;5;28mself\u001B[39m\u001B[38;5;241m.\u001B[39mqueue_progress_bar\u001B[38;5;241m.\u001B[39mtotal \u001B[38;5;241m=\u001B[39m \u001B[38;5;28mself\u001B[39m\u001B[38;5;241m.\u001B[39mtasks_count\n\u001B[1;32m    101\u001B[0m     \u001B[38;5;28mself\u001B[39m\u001B[38;5;241m.\u001B[39mqueue_progress_bar\u001B[38;5;241m.\u001B[39mrefresh()\n\u001B[0;32m--> 103\u001B[0m \u001B[38;5;28;01mwith\u001B[39;00m ThreadPoolExecutor(max_workers\u001B[38;5;241m=\u001B[39m\u001B[38;5;28mself\u001B[39m\u001B[38;5;241m.\u001B[39mnum_workers) \u001B[38;5;28;01mas\u001B[39;00m executor:\n\u001B[1;32m    104\u001B[0m     \u001B[38;5;66;03m# Pass each worker its own progress bar reference\u001B[39;00m\n\u001B[1;32m    105\u001B[0m     futures \u001B[38;5;241m=\u001B[39m [executor\u001B[38;5;241m.\u001B[39msubmit(\u001B[38;5;28mself\u001B[39m\u001B[38;5;241m.\u001B[39mworker_function, worker_id, tasks) \u001B[38;5;28;01mfor\u001B[39;00m worker_id \u001B[38;5;129;01min\u001B[39;00m \u001B[38;5;28mrange\u001B[39m(\u001B[38;5;28mself\u001B[39m\u001B[38;5;241m.\u001B[39mnum_workers)]\n\u001B[1;32m    106\u001B[0m     \u001B[38;5;66;03m# Wait for all workers to finish\u001B[39;00m\n",
      "File \u001B[0;32m/Library/Frameworks/Python.framework/Versions/3.10/lib/python3.10/concurrent/futures/_base.py:649\u001B[0m, in \u001B[0;36mExecutor.__exit__\u001B[0;34m(self, exc_type, exc_val, exc_tb)\u001B[0m\n\u001B[1;32m    648\u001B[0m \u001B[38;5;28;01mdef\u001B[39;00m \u001B[38;5;21m__exit__\u001B[39m(\u001B[38;5;28mself\u001B[39m, exc_type, exc_val, exc_tb):\n\u001B[0;32m--> 649\u001B[0m     \u001B[38;5;28;43mself\u001B[39;49m\u001B[38;5;241;43m.\u001B[39;49m\u001B[43mshutdown\u001B[49m\u001B[43m(\u001B[49m\u001B[43mwait\u001B[49m\u001B[38;5;241;43m=\u001B[39;49m\u001B[38;5;28;43;01mTrue\u001B[39;49;00m\u001B[43m)\u001B[49m\n\u001B[1;32m    650\u001B[0m     \u001B[38;5;28;01mreturn\u001B[39;00m \u001B[38;5;28;01mFalse\u001B[39;00m\n",
      "File \u001B[0;32m/Library/Frameworks/Python.framework/Versions/3.10/lib/python3.10/concurrent/futures/thread.py:235\u001B[0m, in \u001B[0;36mThreadPoolExecutor.shutdown\u001B[0;34m(self, wait, cancel_futures)\u001B[0m\n\u001B[1;32m    233\u001B[0m \u001B[38;5;28;01mif\u001B[39;00m wait:\n\u001B[1;32m    234\u001B[0m     \u001B[38;5;28;01mfor\u001B[39;00m t \u001B[38;5;129;01min\u001B[39;00m \u001B[38;5;28mself\u001B[39m\u001B[38;5;241m.\u001B[39m_threads:\n\u001B[0;32m--> 235\u001B[0m         \u001B[43mt\u001B[49m\u001B[38;5;241;43m.\u001B[39;49m\u001B[43mjoin\u001B[49m\u001B[43m(\u001B[49m\u001B[43m)\u001B[49m\n",
      "File \u001B[0;32m/Library/Frameworks/Python.framework/Versions/3.10/lib/python3.10/threading.py:1096\u001B[0m, in \u001B[0;36mThread.join\u001B[0;34m(self, timeout)\u001B[0m\n\u001B[1;32m   1093\u001B[0m     \u001B[38;5;28;01mraise\u001B[39;00m \u001B[38;5;167;01mRuntimeError\u001B[39;00m(\u001B[38;5;124m\"\u001B[39m\u001B[38;5;124mcannot join current thread\u001B[39m\u001B[38;5;124m\"\u001B[39m)\n\u001B[1;32m   1095\u001B[0m \u001B[38;5;28;01mif\u001B[39;00m timeout \u001B[38;5;129;01mis\u001B[39;00m \u001B[38;5;28;01mNone\u001B[39;00m:\n\u001B[0;32m-> 1096\u001B[0m     \u001B[38;5;28;43mself\u001B[39;49m\u001B[38;5;241;43m.\u001B[39;49m\u001B[43m_wait_for_tstate_lock\u001B[49m\u001B[43m(\u001B[49m\u001B[43m)\u001B[49m\n\u001B[1;32m   1097\u001B[0m \u001B[38;5;28;01melse\u001B[39;00m:\n\u001B[1;32m   1098\u001B[0m     \u001B[38;5;66;03m# the behavior of a negative timeout isn't documented, but\u001B[39;00m\n\u001B[1;32m   1099\u001B[0m     \u001B[38;5;66;03m# historically .join(timeout=x) for x<0 has acted as if timeout=0\u001B[39;00m\n\u001B[1;32m   1100\u001B[0m     \u001B[38;5;28mself\u001B[39m\u001B[38;5;241m.\u001B[39m_wait_for_tstate_lock(timeout\u001B[38;5;241m=\u001B[39m\u001B[38;5;28mmax\u001B[39m(timeout, \u001B[38;5;241m0\u001B[39m))\n",
      "File \u001B[0;32m/Library/Frameworks/Python.framework/Versions/3.10/lib/python3.10/threading.py:1116\u001B[0m, in \u001B[0;36mThread._wait_for_tstate_lock\u001B[0;34m(self, block, timeout)\u001B[0m\n\u001B[1;32m   1113\u001B[0m     \u001B[38;5;28;01mreturn\u001B[39;00m\n\u001B[1;32m   1115\u001B[0m \u001B[38;5;28;01mtry\u001B[39;00m:\n\u001B[0;32m-> 1116\u001B[0m     \u001B[38;5;28;01mif\u001B[39;00m \u001B[43mlock\u001B[49m\u001B[38;5;241;43m.\u001B[39;49m\u001B[43macquire\u001B[49m\u001B[43m(\u001B[49m\u001B[43mblock\u001B[49m\u001B[43m,\u001B[49m\u001B[43m \u001B[49m\u001B[43mtimeout\u001B[49m\u001B[43m)\u001B[49m:\n\u001B[1;32m   1117\u001B[0m         lock\u001B[38;5;241m.\u001B[39mrelease()\n\u001B[1;32m   1118\u001B[0m         \u001B[38;5;28mself\u001B[39m\u001B[38;5;241m.\u001B[39m_stop()\n",
      "\u001B[0;31mKeyboardInterrupt\u001B[0m: "
     ]
    }
   ],
   "execution_count": 6
  },
  {
   "metadata": {},
   "cell_type": "code",
   "outputs": [],
   "execution_count": null,
   "source": "",
   "id": "b9fb35f5cc6bf6d6"
  }
 ],
 "metadata": {
  "kernelspec": {
   "display_name": "Python 3",
   "language": "python",
   "name": "python3"
  },
  "language_info": {
   "codemirror_mode": {
    "name": "ipython",
    "version": 2
   },
   "file_extension": ".py",
   "mimetype": "text/x-python",
   "name": "python",
   "nbconvert_exporter": "python",
   "pygments_lexer": "ipython2",
   "version": "2.7.6"
  }
 },
 "nbformat": 4,
 "nbformat_minor": 5
}
